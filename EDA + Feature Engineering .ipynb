{
 "cells": [
  {
   "cell_type": "code",
   "execution_count": 3,
   "metadata": {},
   "outputs": [],
   "source": [
    "import os\n",
    "import json\n",
    "import requests\n",
    "import joblib\n",
    "import pickle\n",
    "import pandas as pd\n",
    "import numpy as np \n",
    "\n",
    "from statistics import mode\n",
    "import plotly.express as px\n",
    "\n",
    "from sklearn.impute import SimpleImputer\n",
    "from sklearn.pipeline import Pipeline\n",
    "from sklearn.preprocessing import OneHotEncoder\n",
    "from sklearn.metrics import accuracy_score\n",
    "from sklearn.model_selection import train_test_split\n",
    "from sklearn.preprocessing import MinMaxScaler, StandardScaler, RobustScaler\n",
    "from sklearn.neighbors import KNeighborsClassifier\n",
    "from sklearn.pipeline import make_pipeline\n",
    "from sklearn.model_selection import cross_val_score\n",
    "from sklearn.model_selection import StratifiedKFold\n",
    "\n",
    "from sklearn.neighbors import KNeighborsClassifier\n",
    "\n",
    "import xgboost as xgb\n",
    "#from catboost import CatBoostClassifier\n",
    "\n",
    "import optuna \n",
    "from optuna import Trial, visualization\n",
    "from optuna.samplers import TPESampler\n"
   ]
  },
  {
   "cell_type": "code",
   "execution_count": 4,
   "metadata": {},
   "outputs": [],
   "source": [
    "pd.options.plotting.backend = \"plotly\""
   ]
  },
  {
   "cell_type": "code",
   "execution_count": null,
   "metadata": {},
   "outputs": [],
   "source": [
    "\n"
   ]
  },
  {
   "cell_type": "markdown",
   "metadata": {},
   "source": [
    "# Data and Descriptive Stats "
   ]
  },
  {
   "cell_type": "code",
   "execution_count": 32,
   "metadata": {},
   "outputs": [
    {
     "data": {
      "text/html": [
       "<div>\n",
       "<style scoped>\n",
       "    .dataframe tbody tr th:only-of-type {\n",
       "        vertical-align: middle;\n",
       "    }\n",
       "\n",
       "    .dataframe tbody tr th {\n",
       "        vertical-align: top;\n",
       "    }\n",
       "\n",
       "    .dataframe thead th {\n",
       "        text-align: right;\n",
       "    }\n",
       "</style>\n",
       "<table border=\"1\" class=\"dataframe\">\n",
       "  <thead>\n",
       "    <tr style=\"text-align: right;\">\n",
       "      <th></th>\n",
       "      <th>customer_id</th>\n",
       "      <th>name</th>\n",
       "      <th>age</th>\n",
       "      <th>gender</th>\n",
       "      <th>owns_car</th>\n",
       "      <th>owns_house</th>\n",
       "      <th>no_of_children</th>\n",
       "      <th>net_yearly_income</th>\n",
       "      <th>no_of_days_employed</th>\n",
       "      <th>occupation_type</th>\n",
       "      <th>total_family_members</th>\n",
       "      <th>migrant_worker</th>\n",
       "      <th>yearly_debt_payments</th>\n",
       "      <th>credit_limit</th>\n",
       "      <th>credit_limit_used(%)</th>\n",
       "      <th>credit_score</th>\n",
       "      <th>prev_defaults</th>\n",
       "      <th>default_in_last_6months</th>\n",
       "      <th>credit_card_default</th>\n",
       "    </tr>\n",
       "  </thead>\n",
       "  <tbody>\n",
       "    <tr>\n",
       "      <th>0</th>\n",
       "      <td>CST_115179</td>\n",
       "      <td>ita Bose</td>\n",
       "      <td>46</td>\n",
       "      <td>F</td>\n",
       "      <td>N</td>\n",
       "      <td>Y</td>\n",
       "      <td>0.0</td>\n",
       "      <td>107934.04</td>\n",
       "      <td>612.0</td>\n",
       "      <td>Unknown</td>\n",
       "      <td>1.0</td>\n",
       "      <td>1.0</td>\n",
       "      <td>33070.28</td>\n",
       "      <td>18690.93</td>\n",
       "      <td>73</td>\n",
       "      <td>544.0</td>\n",
       "      <td>2</td>\n",
       "      <td>1</td>\n",
       "      <td>1</td>\n",
       "    </tr>\n",
       "    <tr>\n",
       "      <th>1</th>\n",
       "      <td>CST_121920</td>\n",
       "      <td>Alper Jonathan</td>\n",
       "      <td>29</td>\n",
       "      <td>M</td>\n",
       "      <td>N</td>\n",
       "      <td>Y</td>\n",
       "      <td>0.0</td>\n",
       "      <td>109862.62</td>\n",
       "      <td>2771.0</td>\n",
       "      <td>Laborers</td>\n",
       "      <td>2.0</td>\n",
       "      <td>0.0</td>\n",
       "      <td>15329.53</td>\n",
       "      <td>37745.19</td>\n",
       "      <td>52</td>\n",
       "      <td>857.0</td>\n",
       "      <td>0</td>\n",
       "      <td>0</td>\n",
       "      <td>0</td>\n",
       "    </tr>\n",
       "    <tr>\n",
       "      <th>2</th>\n",
       "      <td>CST_109330</td>\n",
       "      <td>Umesh Desai</td>\n",
       "      <td>37</td>\n",
       "      <td>M</td>\n",
       "      <td>N</td>\n",
       "      <td>Y</td>\n",
       "      <td>0.0</td>\n",
       "      <td>230153.17</td>\n",
       "      <td>204.0</td>\n",
       "      <td>Laborers</td>\n",
       "      <td>2.0</td>\n",
       "      <td>0.0</td>\n",
       "      <td>48416.60</td>\n",
       "      <td>41598.36</td>\n",
       "      <td>43</td>\n",
       "      <td>650.0</td>\n",
       "      <td>0</td>\n",
       "      <td>0</td>\n",
       "      <td>0</td>\n",
       "    </tr>\n",
       "    <tr>\n",
       "      <th>3</th>\n",
       "      <td>CST_128288</td>\n",
       "      <td>Rie</td>\n",
       "      <td>39</td>\n",
       "      <td>F</td>\n",
       "      <td>N</td>\n",
       "      <td>Y</td>\n",
       "      <td>0.0</td>\n",
       "      <td>122325.82</td>\n",
       "      <td>11941.0</td>\n",
       "      <td>Core staff</td>\n",
       "      <td>2.0</td>\n",
       "      <td>0.0</td>\n",
       "      <td>22574.36</td>\n",
       "      <td>32627.76</td>\n",
       "      <td>20</td>\n",
       "      <td>754.0</td>\n",
       "      <td>0</td>\n",
       "      <td>0</td>\n",
       "      <td>0</td>\n",
       "    </tr>\n",
       "    <tr>\n",
       "      <th>4</th>\n",
       "      <td>CST_151355</td>\n",
       "      <td>McCool</td>\n",
       "      <td>46</td>\n",
       "      <td>M</td>\n",
       "      <td>Y</td>\n",
       "      <td>Y</td>\n",
       "      <td>0.0</td>\n",
       "      <td>387286.00</td>\n",
       "      <td>1459.0</td>\n",
       "      <td>Core staff</td>\n",
       "      <td>1.0</td>\n",
       "      <td>0.0</td>\n",
       "      <td>38282.95</td>\n",
       "      <td>52950.64</td>\n",
       "      <td>75</td>\n",
       "      <td>927.0</td>\n",
       "      <td>0</td>\n",
       "      <td>0</td>\n",
       "      <td>0</td>\n",
       "    </tr>\n",
       "  </tbody>\n",
       "</table>\n",
       "</div>"
      ],
      "text/plain": [
       "  customer_id            name  age gender owns_car owns_house  no_of_children  \\\n",
       "0  CST_115179        ita Bose   46      F        N          Y             0.0   \n",
       "1  CST_121920  Alper Jonathan   29      M        N          Y             0.0   \n",
       "2  CST_109330     Umesh Desai   37      M        N          Y             0.0   \n",
       "3  CST_128288             Rie   39      F        N          Y             0.0   \n",
       "4  CST_151355          McCool   46      M        Y          Y             0.0   \n",
       "\n",
       "   net_yearly_income  no_of_days_employed occupation_type  \\\n",
       "0          107934.04                612.0         Unknown   \n",
       "1          109862.62               2771.0        Laborers   \n",
       "2          230153.17                204.0        Laborers   \n",
       "3          122325.82              11941.0      Core staff   \n",
       "4          387286.00               1459.0      Core staff   \n",
       "\n",
       "   total_family_members  migrant_worker  yearly_debt_payments  credit_limit  \\\n",
       "0                   1.0             1.0              33070.28      18690.93   \n",
       "1                   2.0             0.0              15329.53      37745.19   \n",
       "2                   2.0             0.0              48416.60      41598.36   \n",
       "3                   2.0             0.0              22574.36      32627.76   \n",
       "4                   1.0             0.0              38282.95      52950.64   \n",
       "\n",
       "   credit_limit_used(%)  credit_score  prev_defaults  default_in_last_6months  \\\n",
       "0                    73         544.0              2                        1   \n",
       "1                    52         857.0              0                        0   \n",
       "2                    43         650.0              0                        0   \n",
       "3                    20         754.0              0                        0   \n",
       "4                    75         927.0              0                        0   \n",
       "\n",
       "   credit_card_default  \n",
       "0                    1  \n",
       "1                    0  \n",
       "2                    0  \n",
       "3                    0  \n",
       "4                    0  "
      ]
     },
     "execution_count": 32,
     "metadata": {},
     "output_type": "execute_result"
    }
   ],
   "source": [
    "train=pd.read_csv(\"./dataset/train.csv\")\n",
    "train.head()"
   ]
  },
  {
   "cell_type": "code",
   "execution_count": 6,
   "metadata": {},
   "outputs": [
    {
     "data": {
      "text/html": [
       "<div>\n",
       "<style scoped>\n",
       "    .dataframe tbody tr th:only-of-type {\n",
       "        vertical-align: middle;\n",
       "    }\n",
       "\n",
       "    .dataframe tbody tr th {\n",
       "        vertical-align: top;\n",
       "    }\n",
       "\n",
       "    .dataframe thead th {\n",
       "        text-align: right;\n",
       "    }\n",
       "</style>\n",
       "<table border=\"1\" class=\"dataframe\">\n",
       "  <thead>\n",
       "    <tr style=\"text-align: right;\">\n",
       "      <th></th>\n",
       "      <th>customer_id</th>\n",
       "      <th>name</th>\n",
       "      <th>age</th>\n",
       "      <th>gender</th>\n",
       "      <th>owns_car</th>\n",
       "      <th>owns_house</th>\n",
       "      <th>no_of_children</th>\n",
       "      <th>net_yearly_income</th>\n",
       "      <th>no_of_days_employed</th>\n",
       "      <th>occupation_type</th>\n",
       "      <th>total_family_members</th>\n",
       "      <th>migrant_worker</th>\n",
       "      <th>yearly_debt_payments</th>\n",
       "      <th>credit_limit</th>\n",
       "      <th>credit_limit_used(%)</th>\n",
       "      <th>credit_score</th>\n",
       "      <th>prev_defaults</th>\n",
       "      <th>default_in_last_6months</th>\n",
       "    </tr>\n",
       "  </thead>\n",
       "  <tbody>\n",
       "    <tr>\n",
       "      <th>0</th>\n",
       "      <td>CST_142525</td>\n",
       "      <td>Siva</td>\n",
       "      <td>52</td>\n",
       "      <td>F</td>\n",
       "      <td>Y</td>\n",
       "      <td>N</td>\n",
       "      <td>0.0</td>\n",
       "      <td>232640.53</td>\n",
       "      <td>998.0</td>\n",
       "      <td>Unknown</td>\n",
       "      <td>2.0</td>\n",
       "      <td>0.0</td>\n",
       "      <td>14406.73</td>\n",
       "      <td>26524.40</td>\n",
       "      <td>4</td>\n",
       "      <td>779.0</td>\n",
       "      <td>0</td>\n",
       "      <td>0</td>\n",
       "    </tr>\n",
       "    <tr>\n",
       "      <th>1</th>\n",
       "      <td>CST_129215</td>\n",
       "      <td>Scott</td>\n",
       "      <td>48</td>\n",
       "      <td>F</td>\n",
       "      <td>N</td>\n",
       "      <td>N</td>\n",
       "      <td>1.0</td>\n",
       "      <td>284396.79</td>\n",
       "      <td>1338.0</td>\n",
       "      <td>Unknown</td>\n",
       "      <td>3.0</td>\n",
       "      <td>0.0</td>\n",
       "      <td>57479.99</td>\n",
       "      <td>68998.72</td>\n",
       "      <td>70</td>\n",
       "      <td>806.0</td>\n",
       "      <td>0</td>\n",
       "      <td>0</td>\n",
       "    </tr>\n",
       "    <tr>\n",
       "      <th>2</th>\n",
       "      <td>CST_138443</td>\n",
       "      <td>Victoria</td>\n",
       "      <td>50</td>\n",
       "      <td>F</td>\n",
       "      <td>N</td>\n",
       "      <td>N</td>\n",
       "      <td>1.0</td>\n",
       "      <td>149419.28</td>\n",
       "      <td>1210.0</td>\n",
       "      <td>Unknown</td>\n",
       "      <td>3.0</td>\n",
       "      <td>0.0</td>\n",
       "      <td>21611.01</td>\n",
       "      <td>25187.80</td>\n",
       "      <td>71</td>\n",
       "      <td>528.0</td>\n",
       "      <td>2</td>\n",
       "      <td>0</td>\n",
       "    </tr>\n",
       "    <tr>\n",
       "      <th>3</th>\n",
       "      <td>CST_123812</td>\n",
       "      <td>John McCrank</td>\n",
       "      <td>30</td>\n",
       "      <td>F</td>\n",
       "      <td>N</td>\n",
       "      <td>N</td>\n",
       "      <td>1.0</td>\n",
       "      <td>160437.54</td>\n",
       "      <td>503.0</td>\n",
       "      <td>Laborers</td>\n",
       "      <td>2.0</td>\n",
       "      <td>1.0</td>\n",
       "      <td>28990.76</td>\n",
       "      <td>29179.39</td>\n",
       "      <td>9</td>\n",
       "      <td>815.0</td>\n",
       "      <td>0</td>\n",
       "      <td>0</td>\n",
       "    </tr>\n",
       "    <tr>\n",
       "      <th>4</th>\n",
       "      <td>CST_144450</td>\n",
       "      <td>Martinne</td>\n",
       "      <td>52</td>\n",
       "      <td>M</td>\n",
       "      <td>N</td>\n",
       "      <td>Y</td>\n",
       "      <td>0.0</td>\n",
       "      <td>233480.37</td>\n",
       "      <td>157.0</td>\n",
       "      <td>Laborers</td>\n",
       "      <td>2.0</td>\n",
       "      <td>1.0</td>\n",
       "      <td>54213.72</td>\n",
       "      <td>82331.82</td>\n",
       "      <td>82</td>\n",
       "      <td>613.0</td>\n",
       "      <td>1</td>\n",
       "      <td>1</td>\n",
       "    </tr>\n",
       "  </tbody>\n",
       "</table>\n",
       "</div>"
      ],
      "text/plain": [
       "  customer_id          name  age gender owns_car owns_house  no_of_children  \\\n",
       "0  CST_142525          Siva   52      F        Y          N             0.0   \n",
       "1  CST_129215         Scott   48      F        N          N             1.0   \n",
       "2  CST_138443      Victoria   50      F        N          N             1.0   \n",
       "3  CST_123812  John McCrank   30      F        N          N             1.0   \n",
       "4  CST_144450      Martinne   52      M        N          Y             0.0   \n",
       "\n",
       "   net_yearly_income  no_of_days_employed occupation_type  \\\n",
       "0          232640.53                998.0         Unknown   \n",
       "1          284396.79               1338.0         Unknown   \n",
       "2          149419.28               1210.0         Unknown   \n",
       "3          160437.54                503.0        Laborers   \n",
       "4          233480.37                157.0        Laborers   \n",
       "\n",
       "   total_family_members  migrant_worker  yearly_debt_payments  credit_limit  \\\n",
       "0                   2.0             0.0              14406.73      26524.40   \n",
       "1                   3.0             0.0              57479.99      68998.72   \n",
       "2                   3.0             0.0              21611.01      25187.80   \n",
       "3                   2.0             1.0              28990.76      29179.39   \n",
       "4                   2.0             1.0              54213.72      82331.82   \n",
       "\n",
       "   credit_limit_used(%)  credit_score  prev_defaults  default_in_last_6months  \n",
       "0                     4         779.0              0                        0  \n",
       "1                    70         806.0              0                        0  \n",
       "2                    71         528.0              2                        0  \n",
       "3                     9         815.0              0                        0  \n",
       "4                    82         613.0              1                        1  "
      ]
     },
     "execution_count": 6,
     "metadata": {},
     "output_type": "execute_result"
    }
   ],
   "source": [
    "test=pd.read_csv(\"./dataset/test.csv\")\n",
    "test.head()"
   ]
  },
  {
   "cell_type": "code",
   "execution_count": 7,
   "metadata": {},
   "outputs": [
    {
     "data": {
      "text/plain": [
       "(45528, 19)"
      ]
     },
     "execution_count": 7,
     "metadata": {},
     "output_type": "execute_result"
    }
   ],
   "source": [
    "train.shape"
   ]
  },
  {
   "cell_type": "code",
   "execution_count": 8,
   "metadata": {},
   "outputs": [
    {
     "data": {
      "text/plain": [
       "(11383, 18)"
      ]
     },
     "execution_count": 8,
     "metadata": {},
     "output_type": "execute_result"
    }
   ],
   "source": [
    "test.shape"
   ]
  },
  {
   "cell_type": "code",
   "execution_count": 9,
   "metadata": {},
   "outputs": [
    {
     "name": "stdout",
     "output_type": "stream",
     "text": [
      "<class 'pandas.core.frame.DataFrame'>\n",
      "RangeIndex: 45528 entries, 0 to 45527\n",
      "Data columns (total 19 columns):\n",
      " #   Column                   Non-Null Count  Dtype  \n",
      "---  ------                   --------------  -----  \n",
      " 0   customer_id              45528 non-null  object \n",
      " 1   name                     45528 non-null  object \n",
      " 2   age                      45528 non-null  int64  \n",
      " 3   gender                   45528 non-null  object \n",
      " 4   owns_car                 44981 non-null  object \n",
      " 5   owns_house               45528 non-null  object \n",
      " 6   no_of_children           44754 non-null  float64\n",
      " 7   net_yearly_income        45528 non-null  float64\n",
      " 8   no_of_days_employed      45065 non-null  float64\n",
      " 9   occupation_type          45528 non-null  object \n",
      " 10  total_family_members     45445 non-null  float64\n",
      " 11  migrant_worker           45441 non-null  float64\n",
      " 12  yearly_debt_payments     45433 non-null  float64\n",
      " 13  credit_limit             45528 non-null  float64\n",
      " 14  credit_limit_used(%)     45528 non-null  int64  \n",
      " 15  credit_score             45520 non-null  float64\n",
      " 16  prev_defaults            45528 non-null  int64  \n",
      " 17  default_in_last_6months  45528 non-null  int64  \n",
      " 18  credit_card_default      45528 non-null  int64  \n",
      "dtypes: float64(8), int64(5), object(6)\n",
      "memory usage: 6.6+ MB\n"
     ]
    }
   ],
   "source": [
    "train.info()"
   ]
  },
  {
   "cell_type": "code",
   "execution_count": 10,
   "metadata": {},
   "outputs": [
    {
     "data": {
      "text/html": [
       "<div>\n",
       "<style scoped>\n",
       "    .dataframe tbody tr th:only-of-type {\n",
       "        vertical-align: middle;\n",
       "    }\n",
       "\n",
       "    .dataframe tbody tr th {\n",
       "        vertical-align: top;\n",
       "    }\n",
       "\n",
       "    .dataframe thead th {\n",
       "        text-align: right;\n",
       "    }\n",
       "</style>\n",
       "<table border=\"1\" class=\"dataframe\">\n",
       "  <thead>\n",
       "    <tr style=\"text-align: right;\">\n",
       "      <th></th>\n",
       "      <th>age</th>\n",
       "      <th>no_of_children</th>\n",
       "      <th>net_yearly_income</th>\n",
       "      <th>no_of_days_employed</th>\n",
       "      <th>total_family_members</th>\n",
       "      <th>migrant_worker</th>\n",
       "      <th>yearly_debt_payments</th>\n",
       "      <th>credit_limit</th>\n",
       "      <th>credit_limit_used(%)</th>\n",
       "      <th>credit_score</th>\n",
       "      <th>prev_defaults</th>\n",
       "      <th>default_in_last_6months</th>\n",
       "      <th>credit_card_default</th>\n",
       "    </tr>\n",
       "  </thead>\n",
       "  <tbody>\n",
       "    <tr>\n",
       "      <th>count</th>\n",
       "      <td>45528.000000</td>\n",
       "      <td>44754.000000</td>\n",
       "      <td>4.552800e+04</td>\n",
       "      <td>45065.000000</td>\n",
       "      <td>45445.000000</td>\n",
       "      <td>45441.000000</td>\n",
       "      <td>45433.000000</td>\n",
       "      <td>4.552800e+04</td>\n",
       "      <td>45528.00000</td>\n",
       "      <td>45520.000000</td>\n",
       "      <td>45528.000000</td>\n",
       "      <td>45528.000000</td>\n",
       "      <td>45528.000000</td>\n",
       "    </tr>\n",
       "    <tr>\n",
       "      <th>mean</th>\n",
       "      <td>38.993411</td>\n",
       "      <td>0.420655</td>\n",
       "      <td>2.006556e+05</td>\n",
       "      <td>67609.289293</td>\n",
       "      <td>2.158081</td>\n",
       "      <td>0.179111</td>\n",
       "      <td>31796.965311</td>\n",
       "      <td>4.354842e+04</td>\n",
       "      <td>52.23502</td>\n",
       "      <td>782.791257</td>\n",
       "      <td>0.060710</td>\n",
       "      <td>0.050540</td>\n",
       "      <td>0.081203</td>\n",
       "    </tr>\n",
       "    <tr>\n",
       "      <th>std</th>\n",
       "      <td>9.543990</td>\n",
       "      <td>0.724097</td>\n",
       "      <td>6.690740e+05</td>\n",
       "      <td>139323.524434</td>\n",
       "      <td>0.911572</td>\n",
       "      <td>0.383450</td>\n",
       "      <td>17269.727234</td>\n",
       "      <td>1.487847e+05</td>\n",
       "      <td>29.37691</td>\n",
       "      <td>100.619746</td>\n",
       "      <td>0.264629</td>\n",
       "      <td>0.219059</td>\n",
       "      <td>0.273149</td>\n",
       "    </tr>\n",
       "    <tr>\n",
       "      <th>min</th>\n",
       "      <td>23.000000</td>\n",
       "      <td>0.000000</td>\n",
       "      <td>2.717061e+04</td>\n",
       "      <td>2.000000</td>\n",
       "      <td>1.000000</td>\n",
       "      <td>0.000000</td>\n",
       "      <td>2237.470000</td>\n",
       "      <td>4.003140e+03</td>\n",
       "      <td>0.00000</td>\n",
       "      <td>500.000000</td>\n",
       "      <td>0.000000</td>\n",
       "      <td>0.000000</td>\n",
       "      <td>0.000000</td>\n",
       "    </tr>\n",
       "    <tr>\n",
       "      <th>25%</th>\n",
       "      <td>31.000000</td>\n",
       "      <td>0.000000</td>\n",
       "      <td>1.263458e+05</td>\n",
       "      <td>936.000000</td>\n",
       "      <td>2.000000</td>\n",
       "      <td>0.000000</td>\n",
       "      <td>19231.140000</td>\n",
       "      <td>2.397381e+04</td>\n",
       "      <td>27.00000</td>\n",
       "      <td>704.000000</td>\n",
       "      <td>0.000000</td>\n",
       "      <td>0.000000</td>\n",
       "      <td>0.000000</td>\n",
       "    </tr>\n",
       "    <tr>\n",
       "      <th>50%</th>\n",
       "      <td>39.000000</td>\n",
       "      <td>0.000000</td>\n",
       "      <td>1.717149e+05</td>\n",
       "      <td>2224.000000</td>\n",
       "      <td>2.000000</td>\n",
       "      <td>0.000000</td>\n",
       "      <td>29081.650000</td>\n",
       "      <td>3.568804e+04</td>\n",
       "      <td>54.00000</td>\n",
       "      <td>786.000000</td>\n",
       "      <td>0.000000</td>\n",
       "      <td>0.000000</td>\n",
       "      <td>0.000000</td>\n",
       "    </tr>\n",
       "    <tr>\n",
       "      <th>75%</th>\n",
       "      <td>47.000000</td>\n",
       "      <td>1.000000</td>\n",
       "      <td>2.406038e+05</td>\n",
       "      <td>5817.000000</td>\n",
       "      <td>3.000000</td>\n",
       "      <td>0.000000</td>\n",
       "      <td>40561.150000</td>\n",
       "      <td>5.343576e+04</td>\n",
       "      <td>78.00000</td>\n",
       "      <td>867.000000</td>\n",
       "      <td>0.000000</td>\n",
       "      <td>0.000000</td>\n",
       "      <td>0.000000</td>\n",
       "    </tr>\n",
       "    <tr>\n",
       "      <th>max</th>\n",
       "      <td>55.000000</td>\n",
       "      <td>9.000000</td>\n",
       "      <td>1.407590e+08</td>\n",
       "      <td>365252.000000</td>\n",
       "      <td>10.000000</td>\n",
       "      <td>1.000000</td>\n",
       "      <td>328112.860000</td>\n",
       "      <td>3.112997e+07</td>\n",
       "      <td>99.00000</td>\n",
       "      <td>949.000000</td>\n",
       "      <td>2.000000</td>\n",
       "      <td>1.000000</td>\n",
       "      <td>1.000000</td>\n",
       "    </tr>\n",
       "  </tbody>\n",
       "</table>\n",
       "</div>"
      ],
      "text/plain": [
       "                age  no_of_children  net_yearly_income  no_of_days_employed  \\\n",
       "count  45528.000000    44754.000000       4.552800e+04         45065.000000   \n",
       "mean      38.993411        0.420655       2.006556e+05         67609.289293   \n",
       "std        9.543990        0.724097       6.690740e+05        139323.524434   \n",
       "min       23.000000        0.000000       2.717061e+04             2.000000   \n",
       "25%       31.000000        0.000000       1.263458e+05           936.000000   \n",
       "50%       39.000000        0.000000       1.717149e+05          2224.000000   \n",
       "75%       47.000000        1.000000       2.406038e+05          5817.000000   \n",
       "max       55.000000        9.000000       1.407590e+08        365252.000000   \n",
       "\n",
       "       total_family_members  migrant_worker  yearly_debt_payments  \\\n",
       "count          45445.000000    45441.000000          45433.000000   \n",
       "mean               2.158081        0.179111          31796.965311   \n",
       "std                0.911572        0.383450          17269.727234   \n",
       "min                1.000000        0.000000           2237.470000   \n",
       "25%                2.000000        0.000000          19231.140000   \n",
       "50%                2.000000        0.000000          29081.650000   \n",
       "75%                3.000000        0.000000          40561.150000   \n",
       "max               10.000000        1.000000         328112.860000   \n",
       "\n",
       "       credit_limit  credit_limit_used(%)  credit_score  prev_defaults  \\\n",
       "count  4.552800e+04           45528.00000  45520.000000   45528.000000   \n",
       "mean   4.354842e+04              52.23502    782.791257       0.060710   \n",
       "std    1.487847e+05              29.37691    100.619746       0.264629   \n",
       "min    4.003140e+03               0.00000    500.000000       0.000000   \n",
       "25%    2.397381e+04              27.00000    704.000000       0.000000   \n",
       "50%    3.568804e+04              54.00000    786.000000       0.000000   \n",
       "75%    5.343576e+04              78.00000    867.000000       0.000000   \n",
       "max    3.112997e+07              99.00000    949.000000       2.000000   \n",
       "\n",
       "       default_in_last_6months  credit_card_default  \n",
       "count             45528.000000         45528.000000  \n",
       "mean                  0.050540             0.081203  \n",
       "std                   0.219059             0.273149  \n",
       "min                   0.000000             0.000000  \n",
       "25%                   0.000000             0.000000  \n",
       "50%                   0.000000             0.000000  \n",
       "75%                   0.000000             0.000000  \n",
       "max                   1.000000             1.000000  "
      ]
     },
     "execution_count": 10,
     "metadata": {},
     "output_type": "execute_result"
    }
   ],
   "source": [
    "train.describe()"
   ]
  },
  {
   "cell_type": "code",
   "execution_count": 11,
   "metadata": {},
   "outputs": [
    {
     "data": {
      "text/html": [
       "<div>\n",
       "<style scoped>\n",
       "    .dataframe tbody tr th:only-of-type {\n",
       "        vertical-align: middle;\n",
       "    }\n",
       "\n",
       "    .dataframe tbody tr th {\n",
       "        vertical-align: top;\n",
       "    }\n",
       "\n",
       "    .dataframe thead th {\n",
       "        text-align: right;\n",
       "    }\n",
       "</style>\n",
       "<table border=\"1\" class=\"dataframe\">\n",
       "  <thead>\n",
       "    <tr style=\"text-align: right;\">\n",
       "      <th></th>\n",
       "      <th>age</th>\n",
       "      <th>no_of_children</th>\n",
       "      <th>net_yearly_income</th>\n",
       "      <th>no_of_days_employed</th>\n",
       "      <th>total_family_members</th>\n",
       "      <th>migrant_worker</th>\n",
       "      <th>yearly_debt_payments</th>\n",
       "      <th>credit_limit</th>\n",
       "      <th>credit_limit_used(%)</th>\n",
       "      <th>credit_score</th>\n",
       "      <th>prev_defaults</th>\n",
       "      <th>default_in_last_6months</th>\n",
       "      <th>credit_card_default</th>\n",
       "    </tr>\n",
       "  </thead>\n",
       "  <tbody>\n",
       "    <tr>\n",
       "      <th>age</th>\n",
       "      <td>1.000000</td>\n",
       "      <td>-0.009082</td>\n",
       "      <td>0.004079</td>\n",
       "      <td>0.000506</td>\n",
       "      <td>-0.010640</td>\n",
       "      <td>-0.005519</td>\n",
       "      <td>-0.002453</td>\n",
       "      <td>0.004473</td>\n",
       "      <td>-0.005529</td>\n",
       "      <td>0.000817</td>\n",
       "      <td>0.001393</td>\n",
       "      <td>-0.001406</td>\n",
       "      <td>-0.000983</td>\n",
       "    </tr>\n",
       "    <tr>\n",
       "      <th>no_of_children</th>\n",
       "      <td>-0.009082</td>\n",
       "      <td>1.000000</td>\n",
       "      <td>0.008939</td>\n",
       "      <td>-0.243088</td>\n",
       "      <td>0.880278</td>\n",
       "      <td>0.070673</td>\n",
       "      <td>0.028706</td>\n",
       "      <td>0.009354</td>\n",
       "      <td>0.007487</td>\n",
       "      <td>-0.014673</td>\n",
       "      <td>0.019528</td>\n",
       "      <td>0.021620</td>\n",
       "      <td>0.023689</td>\n",
       "    </tr>\n",
       "    <tr>\n",
       "      <th>net_yearly_income</th>\n",
       "      <td>0.004079</td>\n",
       "      <td>0.008939</td>\n",
       "      <td>1.000000</td>\n",
       "      <td>-0.029367</td>\n",
       "      <td>0.010432</td>\n",
       "      <td>0.001478</td>\n",
       "      <td>0.076958</td>\n",
       "      <td>0.993378</td>\n",
       "      <td>0.002696</td>\n",
       "      <td>-0.009688</td>\n",
       "      <td>-0.004696</td>\n",
       "      <td>0.015092</td>\n",
       "      <td>0.011508</td>\n",
       "    </tr>\n",
       "    <tr>\n",
       "      <th>no_of_days_employed</th>\n",
       "      <td>0.000506</td>\n",
       "      <td>-0.243088</td>\n",
       "      <td>-0.029367</td>\n",
       "      <td>1.000000</td>\n",
       "      <td>-0.229344</td>\n",
       "      <td>-0.219521</td>\n",
       "      <td>-0.104545</td>\n",
       "      <td>-0.027745</td>\n",
       "      <td>-0.018720</td>\n",
       "      <td>0.035533</td>\n",
       "      <td>-0.036232</td>\n",
       "      <td>-0.034295</td>\n",
       "      <td>-0.047043</td>\n",
       "    </tr>\n",
       "    <tr>\n",
       "      <th>total_family_members</th>\n",
       "      <td>-0.010640</td>\n",
       "      <td>0.880278</td>\n",
       "      <td>0.010432</td>\n",
       "      <td>-0.229344</td>\n",
       "      <td>1.000000</td>\n",
       "      <td>0.080634</td>\n",
       "      <td>0.078669</td>\n",
       "      <td>0.010251</td>\n",
       "      <td>0.001928</td>\n",
       "      <td>-0.011524</td>\n",
       "      <td>0.010608</td>\n",
       "      <td>0.013411</td>\n",
       "      <td>0.010754</td>\n",
       "    </tr>\n",
       "    <tr>\n",
       "      <th>migrant_worker</th>\n",
       "      <td>-0.005519</td>\n",
       "      <td>0.070673</td>\n",
       "      <td>0.001478</td>\n",
       "      <td>-0.219521</td>\n",
       "      <td>0.080634</td>\n",
       "      <td>1.000000</td>\n",
       "      <td>0.014170</td>\n",
       "      <td>-0.000110</td>\n",
       "      <td>0.010198</td>\n",
       "      <td>-0.013319</td>\n",
       "      <td>0.029202</td>\n",
       "      <td>0.029964</td>\n",
       "      <td>0.034013</td>\n",
       "    </tr>\n",
       "    <tr>\n",
       "      <th>yearly_debt_payments</th>\n",
       "      <td>-0.002453</td>\n",
       "      <td>0.028706</td>\n",
       "      <td>0.076958</td>\n",
       "      <td>-0.104545</td>\n",
       "      <td>0.078669</td>\n",
       "      <td>0.014170</td>\n",
       "      <td>1.000000</td>\n",
       "      <td>0.075169</td>\n",
       "      <td>-0.006850</td>\n",
       "      <td>0.005756</td>\n",
       "      <td>-0.012738</td>\n",
       "      <td>-0.011619</td>\n",
       "      <td>-0.013089</td>\n",
       "    </tr>\n",
       "    <tr>\n",
       "      <th>credit_limit</th>\n",
       "      <td>0.004473</td>\n",
       "      <td>0.009354</td>\n",
       "      <td>0.993378</td>\n",
       "      <td>-0.027745</td>\n",
       "      <td>0.010251</td>\n",
       "      <td>-0.000110</td>\n",
       "      <td>0.075169</td>\n",
       "      <td>1.000000</td>\n",
       "      <td>0.003109</td>\n",
       "      <td>-0.009685</td>\n",
       "      <td>-0.004302</td>\n",
       "      <td>0.015759</td>\n",
       "      <td>0.012250</td>\n",
       "    </tr>\n",
       "    <tr>\n",
       "      <th>credit_limit_used(%)</th>\n",
       "      <td>-0.005529</td>\n",
       "      <td>0.007487</td>\n",
       "      <td>0.002696</td>\n",
       "      <td>-0.018720</td>\n",
       "      <td>0.001928</td>\n",
       "      <td>0.010198</td>\n",
       "      <td>-0.006850</td>\n",
       "      <td>0.003109</td>\n",
       "      <td>1.000000</td>\n",
       "      <td>-0.174420</td>\n",
       "      <td>0.252505</td>\n",
       "      <td>0.253684</td>\n",
       "      <td>0.326641</td>\n",
       "    </tr>\n",
       "    <tr>\n",
       "      <th>credit_score</th>\n",
       "      <td>0.000817</td>\n",
       "      <td>-0.014673</td>\n",
       "      <td>-0.009688</td>\n",
       "      <td>0.035533</td>\n",
       "      <td>-0.011524</td>\n",
       "      <td>-0.013319</td>\n",
       "      <td>0.005756</td>\n",
       "      <td>-0.009685</td>\n",
       "      <td>-0.174420</td>\n",
       "      <td>1.000000</td>\n",
       "      <td>-0.471421</td>\n",
       "      <td>-0.450712</td>\n",
       "      <td>-0.543164</td>\n",
       "    </tr>\n",
       "    <tr>\n",
       "      <th>prev_defaults</th>\n",
       "      <td>0.001393</td>\n",
       "      <td>0.019528</td>\n",
       "      <td>-0.004696</td>\n",
       "      <td>-0.036232</td>\n",
       "      <td>0.010608</td>\n",
       "      <td>0.029202</td>\n",
       "      <td>-0.012738</td>\n",
       "      <td>-0.004302</td>\n",
       "      <td>0.252505</td>\n",
       "      <td>-0.471421</td>\n",
       "      <td>1.000000</td>\n",
       "      <td>0.811353</td>\n",
       "      <td>0.771704</td>\n",
       "    </tr>\n",
       "    <tr>\n",
       "      <th>default_in_last_6months</th>\n",
       "      <td>-0.001406</td>\n",
       "      <td>0.021620</td>\n",
       "      <td>0.015092</td>\n",
       "      <td>-0.034295</td>\n",
       "      <td>0.013411</td>\n",
       "      <td>0.029964</td>\n",
       "      <td>-0.011619</td>\n",
       "      <td>0.015759</td>\n",
       "      <td>0.253684</td>\n",
       "      <td>-0.450712</td>\n",
       "      <td>0.811353</td>\n",
       "      <td>1.000000</td>\n",
       "      <td>0.776078</td>\n",
       "    </tr>\n",
       "    <tr>\n",
       "      <th>credit_card_default</th>\n",
       "      <td>-0.000983</td>\n",
       "      <td>0.023689</td>\n",
       "      <td>0.011508</td>\n",
       "      <td>-0.047043</td>\n",
       "      <td>0.010754</td>\n",
       "      <td>0.034013</td>\n",
       "      <td>-0.013089</td>\n",
       "      <td>0.012250</td>\n",
       "      <td>0.326641</td>\n",
       "      <td>-0.543164</td>\n",
       "      <td>0.771704</td>\n",
       "      <td>0.776078</td>\n",
       "      <td>1.000000</td>\n",
       "    </tr>\n",
       "  </tbody>\n",
       "</table>\n",
       "</div>"
      ],
      "text/plain": [
       "                              age  no_of_children  net_yearly_income  \\\n",
       "age                      1.000000       -0.009082           0.004079   \n",
       "no_of_children          -0.009082        1.000000           0.008939   \n",
       "net_yearly_income        0.004079        0.008939           1.000000   \n",
       "no_of_days_employed      0.000506       -0.243088          -0.029367   \n",
       "total_family_members    -0.010640        0.880278           0.010432   \n",
       "migrant_worker          -0.005519        0.070673           0.001478   \n",
       "yearly_debt_payments    -0.002453        0.028706           0.076958   \n",
       "credit_limit             0.004473        0.009354           0.993378   \n",
       "credit_limit_used(%)    -0.005529        0.007487           0.002696   \n",
       "credit_score             0.000817       -0.014673          -0.009688   \n",
       "prev_defaults            0.001393        0.019528          -0.004696   \n",
       "default_in_last_6months -0.001406        0.021620           0.015092   \n",
       "credit_card_default     -0.000983        0.023689           0.011508   \n",
       "\n",
       "                         no_of_days_employed  total_family_members  \\\n",
       "age                                 0.000506             -0.010640   \n",
       "no_of_children                     -0.243088              0.880278   \n",
       "net_yearly_income                  -0.029367              0.010432   \n",
       "no_of_days_employed                 1.000000             -0.229344   \n",
       "total_family_members               -0.229344              1.000000   \n",
       "migrant_worker                     -0.219521              0.080634   \n",
       "yearly_debt_payments               -0.104545              0.078669   \n",
       "credit_limit                       -0.027745              0.010251   \n",
       "credit_limit_used(%)               -0.018720              0.001928   \n",
       "credit_score                        0.035533             -0.011524   \n",
       "prev_defaults                      -0.036232              0.010608   \n",
       "default_in_last_6months            -0.034295              0.013411   \n",
       "credit_card_default                -0.047043              0.010754   \n",
       "\n",
       "                         migrant_worker  yearly_debt_payments  credit_limit  \\\n",
       "age                           -0.005519             -0.002453      0.004473   \n",
       "no_of_children                 0.070673              0.028706      0.009354   \n",
       "net_yearly_income              0.001478              0.076958      0.993378   \n",
       "no_of_days_employed           -0.219521             -0.104545     -0.027745   \n",
       "total_family_members           0.080634              0.078669      0.010251   \n",
       "migrant_worker                 1.000000              0.014170     -0.000110   \n",
       "yearly_debt_payments           0.014170              1.000000      0.075169   \n",
       "credit_limit                  -0.000110              0.075169      1.000000   \n",
       "credit_limit_used(%)           0.010198             -0.006850      0.003109   \n",
       "credit_score                  -0.013319              0.005756     -0.009685   \n",
       "prev_defaults                  0.029202             -0.012738     -0.004302   \n",
       "default_in_last_6months        0.029964             -0.011619      0.015759   \n",
       "credit_card_default            0.034013             -0.013089      0.012250   \n",
       "\n",
       "                         credit_limit_used(%)  credit_score  prev_defaults  \\\n",
       "age                                 -0.005529      0.000817       0.001393   \n",
       "no_of_children                       0.007487     -0.014673       0.019528   \n",
       "net_yearly_income                    0.002696     -0.009688      -0.004696   \n",
       "no_of_days_employed                 -0.018720      0.035533      -0.036232   \n",
       "total_family_members                 0.001928     -0.011524       0.010608   \n",
       "migrant_worker                       0.010198     -0.013319       0.029202   \n",
       "yearly_debt_payments                -0.006850      0.005756      -0.012738   \n",
       "credit_limit                         0.003109     -0.009685      -0.004302   \n",
       "credit_limit_used(%)                 1.000000     -0.174420       0.252505   \n",
       "credit_score                        -0.174420      1.000000      -0.471421   \n",
       "prev_defaults                        0.252505     -0.471421       1.000000   \n",
       "default_in_last_6months              0.253684     -0.450712       0.811353   \n",
       "credit_card_default                  0.326641     -0.543164       0.771704   \n",
       "\n",
       "                         default_in_last_6months  credit_card_default  \n",
       "age                                    -0.001406            -0.000983  \n",
       "no_of_children                          0.021620             0.023689  \n",
       "net_yearly_income                       0.015092             0.011508  \n",
       "no_of_days_employed                    -0.034295            -0.047043  \n",
       "total_family_members                    0.013411             0.010754  \n",
       "migrant_worker                          0.029964             0.034013  \n",
       "yearly_debt_payments                   -0.011619            -0.013089  \n",
       "credit_limit                            0.015759             0.012250  \n",
       "credit_limit_used(%)                    0.253684             0.326641  \n",
       "credit_score                           -0.450712            -0.543164  \n",
       "prev_defaults                           0.811353             0.771704  \n",
       "default_in_last_6months                 1.000000             0.776078  \n",
       "credit_card_default                     0.776078             1.000000  "
      ]
     },
     "execution_count": 11,
     "metadata": {},
     "output_type": "execute_result"
    }
   ],
   "source": [
    "train.corr()"
   ]
  },
  {
   "cell_type": "markdown",
   "metadata": {},
   "source": [
    "#### Shape of Data :\n",
    "Train : (45528, 19) <br>\n",
    "Test :  (11383, 18)\n",
    "\n",
    "\n",
    "#### Numerical Features : \n",
    "['age', 'no_of_children', 'net_yearly_income', 'no_of_days_employed',\n",
    "       'total_family_members', 'migrant_worker', 'yearly_debt_payments',\n",
    "       'credit_limit', 'credit_limit_used(%)', 'credit_score', 'prev_defaults',\n",
    "       'default_in_last_6months']\n",
    "\n",
    "#### Categorical Features : \n",
    "['owns_car','gender','owns_house','occupation_type']\n",
    "\n",
    "#### Target :\n",
    "credit_card_default"
   ]
  },
  {
   "cell_type": "code",
   "execution_count": 12,
   "metadata": {},
   "outputs": [],
   "source": [
    "train['credit_card_default'] = train.credit_card_default.astype('category')"
   ]
  },
  {
   "cell_type": "markdown",
   "metadata": {},
   "source": [
    "# Looking at Distribution  of Target with Catgorical Features"
   ]
  },
  {
   "cell_type": "code",
   "execution_count": 13,
   "metadata": {},
   "outputs": [
    {
     "data": {
      "text/plain": [
       "0    14101\n",
       "1     1137\n",
       "Name: credit_card_default, dtype: int64"
      ]
     },
     "execution_count": 13,
     "metadata": {},
     "output_type": "execute_result"
    }
   ],
   "source": [
    "train[train[\"owns_car\"]=='Y'][\"credit_card_default\"].value_counts()"
   ]
  },
  {
   "cell_type": "code",
   "execution_count": 14,
   "metadata": {
    "scrolled": true
   },
   "outputs": [
    {
     "data": {
      "text/plain": [
       "0    27229\n",
       "1     2514\n",
       "Name: credit_card_default, dtype: int64"
      ]
     },
     "execution_count": 14,
     "metadata": {},
     "output_type": "execute_result"
    }
   ],
   "source": [
    "train[train[\"owns_car\"]=='N'][\"credit_card_default\"].value_counts()"
   ]
  },
  {
   "cell_type": "markdown",
   "metadata": {},
   "source": [
    "**Customer owning car is a not a big indicator if the credit will deafault**"
   ]
  },
  {
   "cell_type": "code",
   "execution_count": 15,
   "metadata": {},
   "outputs": [
    {
     "data": {
      "text/plain": [
       "0    13966\n",
       "1     1604\n",
       "Name: credit_card_default, dtype: int64"
      ]
     },
     "execution_count": 15,
     "metadata": {},
     "output_type": "execute_result"
    }
   ],
   "source": [
    "train[train[\"gender\"]=='M'][\"credit_card_default\"].value_counts()"
   ]
  },
  {
   "cell_type": "code",
   "execution_count": 16,
   "metadata": {},
   "outputs": [
    {
     "data": {
      "text/plain": [
       "0    27864\n",
       "1     2093\n",
       "Name: credit_card_default, dtype: int64"
      ]
     },
     "execution_count": 16,
     "metadata": {},
     "output_type": "execute_result"
    }
   ],
   "source": [
    "train[train[\"gender\"]=='F'][\"credit_card_default\"].value_counts()"
   ]
  },
  {
   "cell_type": "markdown",
   "metadata": {},
   "source": [
    "**Customer Gender is also not a big indicator if the credit will deafault**"
   ]
  },
  {
   "cell_type": "code",
   "execution_count": 73,
   "metadata": {},
   "outputs": [
    {
     "data": {
      "text/plain": [
       "0    29088\n",
       "1     2554\n",
       "Name: credit_card_default, dtype: int64"
      ]
     },
     "execution_count": 73,
     "metadata": {},
     "output_type": "execute_result"
    }
   ],
   "source": [
    "train[train[\"owns_house\"]=='Y'][\"credit_card_default\"].value_counts()"
   ]
  },
  {
   "cell_type": "code",
   "execution_count": 74,
   "metadata": {},
   "outputs": [
    {
     "data": {
      "text/plain": [
       "0    12743\n",
       "1     1143\n",
       "Name: credit_card_default, dtype: int64"
      ]
     },
     "execution_count": 74,
     "metadata": {},
     "output_type": "execute_result"
    }
   ],
   "source": [
    "train[train[\"owns_house\"]=='N'][\"credit_card_default\"].value_counts()"
   ]
  },
  {
   "cell_type": "markdown",
   "metadata": {},
   "source": [
    "**Customer Owning an house is also not a big indicator if the credit will deafault**"
   ]
  },
  {
   "cell_type": "code",
   "execution_count": 111,
   "metadata": {},
   "outputs": [
    {
     "data": {
      "text/plain": [
       "array(['Unknown', 'Laborers', 'Core staff', 'Accountants',\n",
       "       'High skill tech staff', 'Sales staff', 'Managers', 'Drivers',\n",
       "       'Medicine staff', 'Cleaning staff', 'HR staff', 'Security staff',\n",
       "       'Cooking staff', 'Waiters/barmen staff', 'Low-skill Laborers',\n",
       "       'Private service staff', 'Secretaries', 'Realty agents',\n",
       "       'IT staff'], dtype=object)"
      ]
     },
     "execution_count": 111,
     "metadata": {},
     "output_type": "execute_result"
    }
   ],
   "source": [
    "train[\"occupation_type\"].unique()\n"
   ]
  },
  {
   "cell_type": "markdown",
   "metadata": {},
   "source": [
    "A graph to plot deafults according to occupation"
   ]
  },
  {
   "cell_type": "code",
   "execution_count": 104,
   "metadata": {},
   "outputs": [],
   "source": [
    "#fig = px.bar(train,x=\"credit_card_default\")\n",
    "#fig.show()"
   ]
  },
  {
   "cell_type": "code",
   "execution_count": null,
   "metadata": {},
   "outputs": [],
   "source": []
  },
  {
   "cell_type": "markdown",
   "metadata": {},
   "source": [
    "# Removing gender and owns_house "
   ]
  },
  {
   "cell_type": "code",
   "execution_count": 34,
   "metadata": {},
   "outputs": [],
   "source": [
    "train1=train.drop([\"gender\",\"owns_house\",\"owns_car\"],axis=1)"
   ]
  },
  {
   "cell_type": "code",
   "execution_count": 35,
   "metadata": {},
   "outputs": [
    {
     "data": {
      "text/html": [
       "<div>\n",
       "<style scoped>\n",
       "    .dataframe tbody tr th:only-of-type {\n",
       "        vertical-align: middle;\n",
       "    }\n",
       "\n",
       "    .dataframe tbody tr th {\n",
       "        vertical-align: top;\n",
       "    }\n",
       "\n",
       "    .dataframe thead th {\n",
       "        text-align: right;\n",
       "    }\n",
       "</style>\n",
       "<table border=\"1\" class=\"dataframe\">\n",
       "  <thead>\n",
       "    <tr style=\"text-align: right;\">\n",
       "      <th></th>\n",
       "      <th>customer_id</th>\n",
       "      <th>name</th>\n",
       "      <th>age</th>\n",
       "      <th>no_of_children</th>\n",
       "      <th>net_yearly_income</th>\n",
       "      <th>no_of_days_employed</th>\n",
       "      <th>occupation_type</th>\n",
       "      <th>total_family_members</th>\n",
       "      <th>migrant_worker</th>\n",
       "      <th>yearly_debt_payments</th>\n",
       "      <th>credit_limit</th>\n",
       "      <th>credit_limit_used(%)</th>\n",
       "      <th>credit_score</th>\n",
       "      <th>prev_defaults</th>\n",
       "      <th>default_in_last_6months</th>\n",
       "      <th>credit_card_default</th>\n",
       "    </tr>\n",
       "  </thead>\n",
       "  <tbody>\n",
       "    <tr>\n",
       "      <th>0</th>\n",
       "      <td>CST_115179</td>\n",
       "      <td>ita Bose</td>\n",
       "      <td>46</td>\n",
       "      <td>0.0</td>\n",
       "      <td>107934.04</td>\n",
       "      <td>612.0</td>\n",
       "      <td>Unknown</td>\n",
       "      <td>1.0</td>\n",
       "      <td>1.0</td>\n",
       "      <td>33070.28</td>\n",
       "      <td>18690.93</td>\n",
       "      <td>73</td>\n",
       "      <td>544.0</td>\n",
       "      <td>2</td>\n",
       "      <td>1</td>\n",
       "      <td>1</td>\n",
       "    </tr>\n",
       "    <tr>\n",
       "      <th>1</th>\n",
       "      <td>CST_121920</td>\n",
       "      <td>Alper Jonathan</td>\n",
       "      <td>29</td>\n",
       "      <td>0.0</td>\n",
       "      <td>109862.62</td>\n",
       "      <td>2771.0</td>\n",
       "      <td>Laborers</td>\n",
       "      <td>2.0</td>\n",
       "      <td>0.0</td>\n",
       "      <td>15329.53</td>\n",
       "      <td>37745.19</td>\n",
       "      <td>52</td>\n",
       "      <td>857.0</td>\n",
       "      <td>0</td>\n",
       "      <td>0</td>\n",
       "      <td>0</td>\n",
       "    </tr>\n",
       "    <tr>\n",
       "      <th>2</th>\n",
       "      <td>CST_109330</td>\n",
       "      <td>Umesh Desai</td>\n",
       "      <td>37</td>\n",
       "      <td>0.0</td>\n",
       "      <td>230153.17</td>\n",
       "      <td>204.0</td>\n",
       "      <td>Laborers</td>\n",
       "      <td>2.0</td>\n",
       "      <td>0.0</td>\n",
       "      <td>48416.60</td>\n",
       "      <td>41598.36</td>\n",
       "      <td>43</td>\n",
       "      <td>650.0</td>\n",
       "      <td>0</td>\n",
       "      <td>0</td>\n",
       "      <td>0</td>\n",
       "    </tr>\n",
       "    <tr>\n",
       "      <th>3</th>\n",
       "      <td>CST_128288</td>\n",
       "      <td>Rie</td>\n",
       "      <td>39</td>\n",
       "      <td>0.0</td>\n",
       "      <td>122325.82</td>\n",
       "      <td>11941.0</td>\n",
       "      <td>Core staff</td>\n",
       "      <td>2.0</td>\n",
       "      <td>0.0</td>\n",
       "      <td>22574.36</td>\n",
       "      <td>32627.76</td>\n",
       "      <td>20</td>\n",
       "      <td>754.0</td>\n",
       "      <td>0</td>\n",
       "      <td>0</td>\n",
       "      <td>0</td>\n",
       "    </tr>\n",
       "    <tr>\n",
       "      <th>4</th>\n",
       "      <td>CST_151355</td>\n",
       "      <td>McCool</td>\n",
       "      <td>46</td>\n",
       "      <td>0.0</td>\n",
       "      <td>387286.00</td>\n",
       "      <td>1459.0</td>\n",
       "      <td>Core staff</td>\n",
       "      <td>1.0</td>\n",
       "      <td>0.0</td>\n",
       "      <td>38282.95</td>\n",
       "      <td>52950.64</td>\n",
       "      <td>75</td>\n",
       "      <td>927.0</td>\n",
       "      <td>0</td>\n",
       "      <td>0</td>\n",
       "      <td>0</td>\n",
       "    </tr>\n",
       "  </tbody>\n",
       "</table>\n",
       "</div>"
      ],
      "text/plain": [
       "  customer_id            name  age  no_of_children  net_yearly_income  \\\n",
       "0  CST_115179        ita Bose   46             0.0          107934.04   \n",
       "1  CST_121920  Alper Jonathan   29             0.0          109862.62   \n",
       "2  CST_109330     Umesh Desai   37             0.0          230153.17   \n",
       "3  CST_128288             Rie   39             0.0          122325.82   \n",
       "4  CST_151355          McCool   46             0.0          387286.00   \n",
       "\n",
       "   no_of_days_employed occupation_type  total_family_members  migrant_worker  \\\n",
       "0                612.0         Unknown                   1.0             1.0   \n",
       "1               2771.0        Laborers                   2.0             0.0   \n",
       "2                204.0        Laborers                   2.0             0.0   \n",
       "3              11941.0      Core staff                   2.0             0.0   \n",
       "4               1459.0      Core staff                   1.0             0.0   \n",
       "\n",
       "   yearly_debt_payments  credit_limit  credit_limit_used(%)  credit_score  \\\n",
       "0              33070.28      18690.93                    73         544.0   \n",
       "1              15329.53      37745.19                    52         857.0   \n",
       "2              48416.60      41598.36                    43         650.0   \n",
       "3              22574.36      32627.76                    20         754.0   \n",
       "4              38282.95      52950.64                    75         927.0   \n",
       "\n",
       "   prev_defaults  default_in_last_6months  credit_card_default  \n",
       "0              2                        1                    1  \n",
       "1              0                        0                    0  \n",
       "2              0                        0                    0  \n",
       "3              0                        0                    0  \n",
       "4              0                        0                    0  "
      ]
     },
     "execution_count": 35,
     "metadata": {},
     "output_type": "execute_result"
    }
   ],
   "source": [
    "train1.head()"
   ]
  },
  {
   "cell_type": "code",
   "execution_count": 36,
   "metadata": {},
   "outputs": [],
   "source": [
    "X1=train1.drop([\"customer_id\",\"name\",\"credit_card_default\"],axis=1)"
   ]
  },
  {
   "cell_type": "code",
   "execution_count": null,
   "metadata": {},
   "outputs": [],
   "source": [
    "def objective(trial: Trial,X,y) -> float:\n",
    "    \n",
    "    joblib.dump(study, 'study.pkl')\n",
    "\n",
    "    param = {\n",
    "                \"n_estimators\" : trial.suggest_int('n_estimators', 0, 1000),\n",
    "                'max_depth':trial.suggest_int('max_depth', 2, 25),\n",
    "                'reg_alpha':trial.suggest_int('reg_alpha', 0, 5),\n",
    "                'reg_lambda':trial.suggest_int('reg_lambda', 0, 5),\n",
    "                'min_child_weight':trial.suggest_int('min_child_weight', 0, 5),\n",
    "                'gamma':trial.suggest_int('gamma', 0, 5),\n",
    "                'learning_rate':trial.suggest_loguniform('learning_rate',0.005,0.5),\n",
    "                'colsample_bytree':trial.suggest_discrete_uniform('colsample_bytree',0.1,1,0.01),\n",
    "                'nthread' : -1\n",
    "            }\n",
    "    \n",
    "    model = xgb.XGBClassifier(**param)\n",
    "    \n",
    "    return cross_val_score(model,X_train,y_train, cv=3).mean()"
   ]
  },
  {
   "cell_type": "code",
   "execution_count": null,
   "metadata": {},
   "outputs": [],
   "source": [
    "study = optuna.create_study(direction='maximize',sampler=TPESampler())\n",
    "study.optimize(lambda trial : objective(trial,X_train,y_train),n_trials= 50)"
   ]
  },
  {
   "cell_type": "code",
   "execution_count": null,
   "metadata": {},
   "outputs": [],
   "source": [
    "print('Best trial: score {},\\nparams {}'.format(study.best_trial.value,study.best_trial.params))"
   ]
  },
  {
   "cell_type": "code",
   "execution_count": 37,
   "metadata": {},
   "outputs": [],
   "source": [
    "##Geting the categorical and Numberical values\n",
    "cat_cols1= X1.select_dtypes(exclude=\"number\").columns\n",
    "num_cols1= X1.select_dtypes(include=\"number\").columns"
   ]
  },
  {
   "cell_type": "code",
   "execution_count": 38,
   "metadata": {},
   "outputs": [
    {
     "data": {
      "text/plain": [
       "Index(['occupation_type'], dtype='object')"
      ]
     },
     "execution_count": 38,
     "metadata": {},
     "output_type": "execute_result"
    }
   ],
   "source": [
    "cat_cols1"
   ]
  },
  {
   "cell_type": "code",
   "execution_count": 39,
   "metadata": {},
   "outputs": [
    {
     "data": {
      "text/plain": [
       "Index(['age', 'no_of_children', 'net_yearly_income', 'no_of_days_employed',\n",
       "       'total_family_members', 'migrant_worker', 'yearly_debt_payments',\n",
       "       'credit_limit', 'credit_limit_used(%)', 'credit_score', 'prev_defaults',\n",
       "       'default_in_last_6months'],\n",
       "      dtype='object')"
      ]
     },
     "execution_count": 39,
     "metadata": {},
     "output_type": "execute_result"
    }
   ],
   "source": [
    "num_cols1"
   ]
  },
  {
   "cell_type": "code",
   "execution_count": 40,
   "metadata": {},
   "outputs": [],
   "source": [
    "from sklearn.preprocessing import RobustScaler"
   ]
  },
  {
   "cell_type": "code",
   "execution_count": 43,
   "metadata": {},
   "outputs": [],
   "source": [
    "RScaler=RobustScaler()\n",
    "num_features=RScaler.fit_transform(X1[num_cols1])"
   ]
  },
  {
   "cell_type": "code",
   "execution_count": 44,
   "metadata": {},
   "outputs": [
    {
     "data": {
      "text/plain": [
       "array([[ 0.4375    ,  0.        , -0.55821835, ..., -1.48466258,\n",
       "         2.        ,  1.        ],\n",
       "       [-0.625     ,  0.        , -0.54133917, ...,  0.43558282,\n",
       "         0.        ,  0.        ],\n",
       "       [-0.125     ,  0.        ,  0.51145914, ..., -0.83435583,\n",
       "         0.        ,  0.        ],\n",
       "       ...,\n",
       "       [-0.75      ,  0.        ,  0.77313911, ..., -0.36196319,\n",
       "         0.        ,  0.        ],\n",
       "       [-0.4375    ,  0.        , -0.12560941, ...,  0.11656442,\n",
       "         0.        ,  0.        ],\n",
       "       [-0.0625    ,  1.        ,  1.27064595, ..., -0.63803681,\n",
       "         0.        ,  0.        ]])"
      ]
     },
     "execution_count": 44,
     "metadata": {},
     "output_type": "execute_result"
    }
   ],
   "source": [
    "num_features"
   ]
  },
  {
   "cell_type": "code",
   "execution_count": 47,
   "metadata": {},
   "outputs": [],
   "source": [
    "from sklearn.preprocessing import LabelEncoder\n",
    "le =LabelEncoder()"
   ]
  },
  {
   "cell_type": "code",
   "execution_count": 48,
   "metadata": {},
   "outputs": [
    {
     "name": "stderr",
     "output_type": "stream",
     "text": [
      "c:\\programdata\\anaconda3\\envs\\pytorch\\lib\\site-packages\\sklearn\\utils\\validation.py:72: DataConversionWarning: A column-vector y was passed when a 1d array was expected. Please change the shape of y to (n_samples, ), for example using ravel().\n",
      "  return f(**kwargs)\n"
     ]
    }
   ],
   "source": [
    "cat_features=le.fit_transform(X1[cat_cols1])"
   ]
  },
  {
   "cell_type": "code",
   "execution_count": 49,
   "metadata": {},
   "outputs": [
    {
     "data": {
      "text/plain": [
       "array([17,  8,  8, ...,  3,  8, 17])"
      ]
     },
     "execution_count": 49,
     "metadata": {},
     "output_type": "execute_result"
    }
   ],
   "source": [
    "cat_features"
   ]
  },
  {
   "cell_type": "markdown",
   "metadata": {},
   "source": [
    "### Preprocessing Pipeline "
   ]
  },
  {
   "cell_type": "code",
   "execution_count": 53,
   "metadata": {},
   "outputs": [],
   "source": [
    "#Preprocessing Pipelines for numerical and categorial values\n",
    "categorical_pipeline = Pipeline(\n",
    "    steps=[\n",
    "        (\"Label\",LabelEncoder())\n",
    "    ]\n",
    ")\n",
    "\n",
    "numeric_pipeline = Pipeline(\n",
    "    steps=[ \n",
    "           (\"scale\", RobustScaler())]\n",
    ")"
   ]
  },
  {
   "cell_type": "code",
   "execution_count": 54,
   "metadata": {},
   "outputs": [],
   "source": [
    "from sklearn.compose import ColumnTransformer\n",
    "\n",
    "full_processor =FeatureUnion([(\"pca\", PCA(n_components=1)),(\"svd\", TruncatedSVD(n_components=2))])"
   ]
  },
  {
   "cell_type": "code",
   "execution_count": 55,
   "metadata": {},
   "outputs": [
    {
     "ename": "TypeError",
     "evalue": "fit_transform() takes 2 positional arguments but 3 were given",
     "output_type": "error",
     "traceback": [
      "\u001b[1;31m---------------------------------------------------------------------------\u001b[0m",
      "\u001b[1;31mTypeError\u001b[0m                                 Traceback (most recent call last)",
      "\u001b[1;32mC:\\Users\\KATTUB~1\\AppData\\Local\\Temp/ipykernel_1156/2950254640.py\u001b[0m in \u001b[0;36m<module>\u001b[1;34m\u001b[0m\n\u001b[1;32m----> 1\u001b[1;33m \u001b[0mtrain_pre\u001b[0m\u001b[1;33m=\u001b[0m\u001b[0mfull_processor\u001b[0m\u001b[1;33m.\u001b[0m\u001b[0mfit_transform\u001b[0m\u001b[1;33m(\u001b[0m\u001b[0mX1\u001b[0m\u001b[1;33m)\u001b[0m\u001b[1;33m\u001b[0m\u001b[1;33m\u001b[0m\u001b[0m\n\u001b[0m",
      "\u001b[1;32mc:\\programdata\\anaconda3\\envs\\pytorch\\lib\\site-packages\\sklearn\\compose\\_column_transformer.py\u001b[0m in \u001b[0;36mfit_transform\u001b[1;34m(self, X, y)\u001b[0m\n\u001b[0;32m    529\u001b[0m         \u001b[0mself\u001b[0m\u001b[1;33m.\u001b[0m\u001b[0m_validate_remainder\u001b[0m\u001b[1;33m(\u001b[0m\u001b[0mX\u001b[0m\u001b[1;33m)\u001b[0m\u001b[1;33m\u001b[0m\u001b[1;33m\u001b[0m\u001b[0m\n\u001b[0;32m    530\u001b[0m \u001b[1;33m\u001b[0m\u001b[0m\n\u001b[1;32m--> 531\u001b[1;33m         \u001b[0mresult\u001b[0m \u001b[1;33m=\u001b[0m \u001b[0mself\u001b[0m\u001b[1;33m.\u001b[0m\u001b[0m_fit_transform\u001b[0m\u001b[1;33m(\u001b[0m\u001b[0mX\u001b[0m\u001b[1;33m,\u001b[0m \u001b[0my\u001b[0m\u001b[1;33m,\u001b[0m \u001b[0m_fit_transform_one\u001b[0m\u001b[1;33m)\u001b[0m\u001b[1;33m\u001b[0m\u001b[1;33m\u001b[0m\u001b[0m\n\u001b[0m\u001b[0;32m    532\u001b[0m \u001b[1;33m\u001b[0m\u001b[0m\n\u001b[0;32m    533\u001b[0m         \u001b[1;32mif\u001b[0m \u001b[1;32mnot\u001b[0m \u001b[0mresult\u001b[0m\u001b[1;33m:\u001b[0m\u001b[1;33m\u001b[0m\u001b[1;33m\u001b[0m\u001b[0m\n",
      "\u001b[1;32mc:\\programdata\\anaconda3\\envs\\pytorch\\lib\\site-packages\\sklearn\\compose\\_column_transformer.py\u001b[0m in \u001b[0;36m_fit_transform\u001b[1;34m(self, X, y, func, fitted)\u001b[0m\n\u001b[0;32m    456\u001b[0m             self._iter(fitted=fitted, replace_strings=True))\n\u001b[0;32m    457\u001b[0m         \u001b[1;32mtry\u001b[0m\u001b[1;33m:\u001b[0m\u001b[1;33m\u001b[0m\u001b[1;33m\u001b[0m\u001b[0m\n\u001b[1;32m--> 458\u001b[1;33m             return Parallel(n_jobs=self.n_jobs)(\n\u001b[0m\u001b[0;32m    459\u001b[0m                 delayed(func)(\n\u001b[0;32m    460\u001b[0m                     \u001b[0mtransformer\u001b[0m\u001b[1;33m=\u001b[0m\u001b[0mclone\u001b[0m\u001b[1;33m(\u001b[0m\u001b[0mtrans\u001b[0m\u001b[1;33m)\u001b[0m \u001b[1;32mif\u001b[0m \u001b[1;32mnot\u001b[0m \u001b[0mfitted\u001b[0m \u001b[1;32melse\u001b[0m \u001b[0mtrans\u001b[0m\u001b[1;33m,\u001b[0m\u001b[1;33m\u001b[0m\u001b[1;33m\u001b[0m\u001b[0m\n",
      "\u001b[1;32mc:\\programdata\\anaconda3\\envs\\pytorch\\lib\\site-packages\\joblib\\parallel.py\u001b[0m in \u001b[0;36m__call__\u001b[1;34m(self, iterable)\u001b[0m\n\u001b[0;32m   1049\u001b[0m                 \u001b[0mself\u001b[0m\u001b[1;33m.\u001b[0m\u001b[0m_iterating\u001b[0m \u001b[1;33m=\u001b[0m \u001b[0mself\u001b[0m\u001b[1;33m.\u001b[0m\u001b[0m_original_iterator\u001b[0m \u001b[1;32mis\u001b[0m \u001b[1;32mnot\u001b[0m \u001b[1;32mNone\u001b[0m\u001b[1;33m\u001b[0m\u001b[1;33m\u001b[0m\u001b[0m\n\u001b[0;32m   1050\u001b[0m \u001b[1;33m\u001b[0m\u001b[0m\n\u001b[1;32m-> 1051\u001b[1;33m             \u001b[1;32mwhile\u001b[0m \u001b[0mself\u001b[0m\u001b[1;33m.\u001b[0m\u001b[0mdispatch_one_batch\u001b[0m\u001b[1;33m(\u001b[0m\u001b[0miterator\u001b[0m\u001b[1;33m)\u001b[0m\u001b[1;33m:\u001b[0m\u001b[1;33m\u001b[0m\u001b[1;33m\u001b[0m\u001b[0m\n\u001b[0m\u001b[0;32m   1052\u001b[0m                 \u001b[1;32mpass\u001b[0m\u001b[1;33m\u001b[0m\u001b[1;33m\u001b[0m\u001b[0m\n\u001b[0;32m   1053\u001b[0m \u001b[1;33m\u001b[0m\u001b[0m\n",
      "\u001b[1;32mc:\\programdata\\anaconda3\\envs\\pytorch\\lib\\site-packages\\joblib\\parallel.py\u001b[0m in \u001b[0;36mdispatch_one_batch\u001b[1;34m(self, iterator)\u001b[0m\n\u001b[0;32m    864\u001b[0m                 \u001b[1;32mreturn\u001b[0m \u001b[1;32mFalse\u001b[0m\u001b[1;33m\u001b[0m\u001b[1;33m\u001b[0m\u001b[0m\n\u001b[0;32m    865\u001b[0m             \u001b[1;32melse\u001b[0m\u001b[1;33m:\u001b[0m\u001b[1;33m\u001b[0m\u001b[1;33m\u001b[0m\u001b[0m\n\u001b[1;32m--> 866\u001b[1;33m                 \u001b[0mself\u001b[0m\u001b[1;33m.\u001b[0m\u001b[0m_dispatch\u001b[0m\u001b[1;33m(\u001b[0m\u001b[0mtasks\u001b[0m\u001b[1;33m)\u001b[0m\u001b[1;33m\u001b[0m\u001b[1;33m\u001b[0m\u001b[0m\n\u001b[0m\u001b[0;32m    867\u001b[0m                 \u001b[1;32mreturn\u001b[0m \u001b[1;32mTrue\u001b[0m\u001b[1;33m\u001b[0m\u001b[1;33m\u001b[0m\u001b[0m\n\u001b[0;32m    868\u001b[0m \u001b[1;33m\u001b[0m\u001b[0m\n",
      "\u001b[1;32mc:\\programdata\\anaconda3\\envs\\pytorch\\lib\\site-packages\\joblib\\parallel.py\u001b[0m in \u001b[0;36m_dispatch\u001b[1;34m(self, batch)\u001b[0m\n\u001b[0;32m    782\u001b[0m         \u001b[1;32mwith\u001b[0m \u001b[0mself\u001b[0m\u001b[1;33m.\u001b[0m\u001b[0m_lock\u001b[0m\u001b[1;33m:\u001b[0m\u001b[1;33m\u001b[0m\u001b[1;33m\u001b[0m\u001b[0m\n\u001b[0;32m    783\u001b[0m             \u001b[0mjob_idx\u001b[0m \u001b[1;33m=\u001b[0m \u001b[0mlen\u001b[0m\u001b[1;33m(\u001b[0m\u001b[0mself\u001b[0m\u001b[1;33m.\u001b[0m\u001b[0m_jobs\u001b[0m\u001b[1;33m)\u001b[0m\u001b[1;33m\u001b[0m\u001b[1;33m\u001b[0m\u001b[0m\n\u001b[1;32m--> 784\u001b[1;33m             \u001b[0mjob\u001b[0m \u001b[1;33m=\u001b[0m \u001b[0mself\u001b[0m\u001b[1;33m.\u001b[0m\u001b[0m_backend\u001b[0m\u001b[1;33m.\u001b[0m\u001b[0mapply_async\u001b[0m\u001b[1;33m(\u001b[0m\u001b[0mbatch\u001b[0m\u001b[1;33m,\u001b[0m \u001b[0mcallback\u001b[0m\u001b[1;33m=\u001b[0m\u001b[0mcb\u001b[0m\u001b[1;33m)\u001b[0m\u001b[1;33m\u001b[0m\u001b[1;33m\u001b[0m\u001b[0m\n\u001b[0m\u001b[0;32m    785\u001b[0m             \u001b[1;31m# A job can complete so quickly than its callback is\u001b[0m\u001b[1;33m\u001b[0m\u001b[1;33m\u001b[0m\u001b[1;33m\u001b[0m\u001b[0m\n\u001b[0;32m    786\u001b[0m             \u001b[1;31m# called before we get here, causing self._jobs to\u001b[0m\u001b[1;33m\u001b[0m\u001b[1;33m\u001b[0m\u001b[1;33m\u001b[0m\u001b[0m\n",
      "\u001b[1;32mc:\\programdata\\anaconda3\\envs\\pytorch\\lib\\site-packages\\joblib\\_parallel_backends.py\u001b[0m in \u001b[0;36mapply_async\u001b[1;34m(self, func, callback)\u001b[0m\n\u001b[0;32m    206\u001b[0m     \u001b[1;32mdef\u001b[0m \u001b[0mapply_async\u001b[0m\u001b[1;33m(\u001b[0m\u001b[0mself\u001b[0m\u001b[1;33m,\u001b[0m \u001b[0mfunc\u001b[0m\u001b[1;33m,\u001b[0m \u001b[0mcallback\u001b[0m\u001b[1;33m=\u001b[0m\u001b[1;32mNone\u001b[0m\u001b[1;33m)\u001b[0m\u001b[1;33m:\u001b[0m\u001b[1;33m\u001b[0m\u001b[1;33m\u001b[0m\u001b[0m\n\u001b[0;32m    207\u001b[0m         \u001b[1;34m\"\"\"Schedule a func to be run\"\"\"\u001b[0m\u001b[1;33m\u001b[0m\u001b[1;33m\u001b[0m\u001b[0m\n\u001b[1;32m--> 208\u001b[1;33m         \u001b[0mresult\u001b[0m \u001b[1;33m=\u001b[0m \u001b[0mImmediateResult\u001b[0m\u001b[1;33m(\u001b[0m\u001b[0mfunc\u001b[0m\u001b[1;33m)\u001b[0m\u001b[1;33m\u001b[0m\u001b[1;33m\u001b[0m\u001b[0m\n\u001b[0m\u001b[0;32m    209\u001b[0m         \u001b[1;32mif\u001b[0m \u001b[0mcallback\u001b[0m\u001b[1;33m:\u001b[0m\u001b[1;33m\u001b[0m\u001b[1;33m\u001b[0m\u001b[0m\n\u001b[0;32m    210\u001b[0m             \u001b[0mcallback\u001b[0m\u001b[1;33m(\u001b[0m\u001b[0mresult\u001b[0m\u001b[1;33m)\u001b[0m\u001b[1;33m\u001b[0m\u001b[1;33m\u001b[0m\u001b[0m\n",
      "\u001b[1;32mc:\\programdata\\anaconda3\\envs\\pytorch\\lib\\site-packages\\joblib\\_parallel_backends.py\u001b[0m in \u001b[0;36m__init__\u001b[1;34m(self, batch)\u001b[0m\n\u001b[0;32m    570\u001b[0m         \u001b[1;31m# Don't delay the application, to avoid keeping the input\u001b[0m\u001b[1;33m\u001b[0m\u001b[1;33m\u001b[0m\u001b[1;33m\u001b[0m\u001b[0m\n\u001b[0;32m    571\u001b[0m         \u001b[1;31m# arguments in memory\u001b[0m\u001b[1;33m\u001b[0m\u001b[1;33m\u001b[0m\u001b[1;33m\u001b[0m\u001b[0m\n\u001b[1;32m--> 572\u001b[1;33m         \u001b[0mself\u001b[0m\u001b[1;33m.\u001b[0m\u001b[0mresults\u001b[0m \u001b[1;33m=\u001b[0m \u001b[0mbatch\u001b[0m\u001b[1;33m(\u001b[0m\u001b[1;33m)\u001b[0m\u001b[1;33m\u001b[0m\u001b[1;33m\u001b[0m\u001b[0m\n\u001b[0m\u001b[0;32m    573\u001b[0m \u001b[1;33m\u001b[0m\u001b[0m\n\u001b[0;32m    574\u001b[0m     \u001b[1;32mdef\u001b[0m \u001b[0mget\u001b[0m\u001b[1;33m(\u001b[0m\u001b[0mself\u001b[0m\u001b[1;33m)\u001b[0m\u001b[1;33m:\u001b[0m\u001b[1;33m\u001b[0m\u001b[1;33m\u001b[0m\u001b[0m\n",
      "\u001b[1;32mc:\\programdata\\anaconda3\\envs\\pytorch\\lib\\site-packages\\joblib\\parallel.py\u001b[0m in \u001b[0;36m__call__\u001b[1;34m(self)\u001b[0m\n\u001b[0;32m    260\u001b[0m         \u001b[1;31m# change the default number of processes to -1\u001b[0m\u001b[1;33m\u001b[0m\u001b[1;33m\u001b[0m\u001b[1;33m\u001b[0m\u001b[0m\n\u001b[0;32m    261\u001b[0m         \u001b[1;32mwith\u001b[0m \u001b[0mparallel_backend\u001b[0m\u001b[1;33m(\u001b[0m\u001b[0mself\u001b[0m\u001b[1;33m.\u001b[0m\u001b[0m_backend\u001b[0m\u001b[1;33m,\u001b[0m \u001b[0mn_jobs\u001b[0m\u001b[1;33m=\u001b[0m\u001b[0mself\u001b[0m\u001b[1;33m.\u001b[0m\u001b[0m_n_jobs\u001b[0m\u001b[1;33m)\u001b[0m\u001b[1;33m:\u001b[0m\u001b[1;33m\u001b[0m\u001b[1;33m\u001b[0m\u001b[0m\n\u001b[1;32m--> 262\u001b[1;33m             return [func(*args, **kwargs)\n\u001b[0m\u001b[0;32m    263\u001b[0m                     for func, args, kwargs in self.items]\n\u001b[0;32m    264\u001b[0m \u001b[1;33m\u001b[0m\u001b[0m\n",
      "\u001b[1;32mc:\\programdata\\anaconda3\\envs\\pytorch\\lib\\site-packages\\joblib\\parallel.py\u001b[0m in \u001b[0;36m<listcomp>\u001b[1;34m(.0)\u001b[0m\n\u001b[0;32m    260\u001b[0m         \u001b[1;31m# change the default number of processes to -1\u001b[0m\u001b[1;33m\u001b[0m\u001b[1;33m\u001b[0m\u001b[1;33m\u001b[0m\u001b[0m\n\u001b[0;32m    261\u001b[0m         \u001b[1;32mwith\u001b[0m \u001b[0mparallel_backend\u001b[0m\u001b[1;33m(\u001b[0m\u001b[0mself\u001b[0m\u001b[1;33m.\u001b[0m\u001b[0m_backend\u001b[0m\u001b[1;33m,\u001b[0m \u001b[0mn_jobs\u001b[0m\u001b[1;33m=\u001b[0m\u001b[0mself\u001b[0m\u001b[1;33m.\u001b[0m\u001b[0m_n_jobs\u001b[0m\u001b[1;33m)\u001b[0m\u001b[1;33m:\u001b[0m\u001b[1;33m\u001b[0m\u001b[1;33m\u001b[0m\u001b[0m\n\u001b[1;32m--> 262\u001b[1;33m             return [func(*args, **kwargs)\n\u001b[0m\u001b[0;32m    263\u001b[0m                     for func, args, kwargs in self.items]\n\u001b[0;32m    264\u001b[0m \u001b[1;33m\u001b[0m\u001b[0m\n",
      "\u001b[1;32mc:\\programdata\\anaconda3\\envs\\pytorch\\lib\\site-packages\\sklearn\\pipeline.py\u001b[0m in \u001b[0;36m_fit_transform_one\u001b[1;34m(transformer, X, y, weight, message_clsname, message, **fit_params)\u001b[0m\n\u001b[0;32m    738\u001b[0m     \u001b[1;32mwith\u001b[0m \u001b[0m_print_elapsed_time\u001b[0m\u001b[1;33m(\u001b[0m\u001b[0mmessage_clsname\u001b[0m\u001b[1;33m,\u001b[0m \u001b[0mmessage\u001b[0m\u001b[1;33m)\u001b[0m\u001b[1;33m:\u001b[0m\u001b[1;33m\u001b[0m\u001b[1;33m\u001b[0m\u001b[0m\n\u001b[0;32m    739\u001b[0m         \u001b[1;32mif\u001b[0m \u001b[0mhasattr\u001b[0m\u001b[1;33m(\u001b[0m\u001b[0mtransformer\u001b[0m\u001b[1;33m,\u001b[0m \u001b[1;34m'fit_transform'\u001b[0m\u001b[1;33m)\u001b[0m\u001b[1;33m:\u001b[0m\u001b[1;33m\u001b[0m\u001b[1;33m\u001b[0m\u001b[0m\n\u001b[1;32m--> 740\u001b[1;33m             \u001b[0mres\u001b[0m \u001b[1;33m=\u001b[0m \u001b[0mtransformer\u001b[0m\u001b[1;33m.\u001b[0m\u001b[0mfit_transform\u001b[0m\u001b[1;33m(\u001b[0m\u001b[0mX\u001b[0m\u001b[1;33m,\u001b[0m \u001b[0my\u001b[0m\u001b[1;33m,\u001b[0m \u001b[1;33m**\u001b[0m\u001b[0mfit_params\u001b[0m\u001b[1;33m)\u001b[0m\u001b[1;33m\u001b[0m\u001b[1;33m\u001b[0m\u001b[0m\n\u001b[0m\u001b[0;32m    741\u001b[0m         \u001b[1;32melse\u001b[0m\u001b[1;33m:\u001b[0m\u001b[1;33m\u001b[0m\u001b[1;33m\u001b[0m\u001b[0m\n\u001b[0;32m    742\u001b[0m             \u001b[0mres\u001b[0m \u001b[1;33m=\u001b[0m \u001b[0mtransformer\u001b[0m\u001b[1;33m.\u001b[0m\u001b[0mfit\u001b[0m\u001b[1;33m(\u001b[0m\u001b[0mX\u001b[0m\u001b[1;33m,\u001b[0m \u001b[0my\u001b[0m\u001b[1;33m,\u001b[0m \u001b[1;33m**\u001b[0m\u001b[0mfit_params\u001b[0m\u001b[1;33m)\u001b[0m\u001b[1;33m.\u001b[0m\u001b[0mtransform\u001b[0m\u001b[1;33m(\u001b[0m\u001b[0mX\u001b[0m\u001b[1;33m)\u001b[0m\u001b[1;33m\u001b[0m\u001b[1;33m\u001b[0m\u001b[0m\n",
      "\u001b[1;32mc:\\programdata\\anaconda3\\envs\\pytorch\\lib\\site-packages\\sklearn\\pipeline.py\u001b[0m in \u001b[0;36mfit_transform\u001b[1;34m(self, X, y, **fit_params)\u001b[0m\n\u001b[0;32m    374\u001b[0m             \u001b[0mfit_params_last_step\u001b[0m \u001b[1;33m=\u001b[0m \u001b[0mfit_params_steps\u001b[0m\u001b[1;33m[\u001b[0m\u001b[0mself\u001b[0m\u001b[1;33m.\u001b[0m\u001b[0msteps\u001b[0m\u001b[1;33m[\u001b[0m\u001b[1;33m-\u001b[0m\u001b[1;36m1\u001b[0m\u001b[1;33m]\u001b[0m\u001b[1;33m[\u001b[0m\u001b[1;36m0\u001b[0m\u001b[1;33m]\u001b[0m\u001b[1;33m]\u001b[0m\u001b[1;33m\u001b[0m\u001b[1;33m\u001b[0m\u001b[0m\n\u001b[0;32m    375\u001b[0m             \u001b[1;32mif\u001b[0m \u001b[0mhasattr\u001b[0m\u001b[1;33m(\u001b[0m\u001b[0mlast_step\u001b[0m\u001b[1;33m,\u001b[0m \u001b[1;34m'fit_transform'\u001b[0m\u001b[1;33m)\u001b[0m\u001b[1;33m:\u001b[0m\u001b[1;33m\u001b[0m\u001b[1;33m\u001b[0m\u001b[0m\n\u001b[1;32m--> 376\u001b[1;33m                 \u001b[1;32mreturn\u001b[0m \u001b[0mlast_step\u001b[0m\u001b[1;33m.\u001b[0m\u001b[0mfit_transform\u001b[0m\u001b[1;33m(\u001b[0m\u001b[0mXt\u001b[0m\u001b[1;33m,\u001b[0m \u001b[0my\u001b[0m\u001b[1;33m,\u001b[0m \u001b[1;33m**\u001b[0m\u001b[0mfit_params_last_step\u001b[0m\u001b[1;33m)\u001b[0m\u001b[1;33m\u001b[0m\u001b[1;33m\u001b[0m\u001b[0m\n\u001b[0m\u001b[0;32m    377\u001b[0m             \u001b[1;32melse\u001b[0m\u001b[1;33m:\u001b[0m\u001b[1;33m\u001b[0m\u001b[1;33m\u001b[0m\u001b[0m\n\u001b[0;32m    378\u001b[0m                 return last_step.fit(Xt, y,\n",
      "\u001b[1;31mTypeError\u001b[0m: fit_transform() takes 2 positional arguments but 3 were given"
     ]
    }
   ],
   "source": [
    "train_pre=full_processor.fit_transform(X1)"
   ]
  },
  {
   "cell_type": "code",
   "execution_count": null,
   "metadata": {},
   "outputs": [],
   "source": []
  }
 ],
 "metadata": {
  "kernelspec": {
   "display_name": "Python 3 (ipykernel)",
   "language": "python",
   "name": "python3"
  },
  "language_info": {
   "codemirror_mode": {
    "name": "ipython",
    "version": 3
   },
   "file_extension": ".py",
   "mimetype": "text/x-python",
   "name": "python",
   "nbconvert_exporter": "python",
   "pygments_lexer": "ipython3",
   "version": "3.8.5"
  }
 },
 "nbformat": 4,
 "nbformat_minor": 4
}
